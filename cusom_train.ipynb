{
 "cells": [
  {
   "cell_type": "code",
   "execution_count": null,
   "metadata": {},
   "outputs": [],
   "source": [
    "import os\n",
    "import sys\n",
    "import pandas as pd\n",
    "import numpy as np\n",
    "import tensorflow as tf\n",
    "from tensorflow import keras\n",
    "\n",
    "gpus = tf.config.experimental.list_physical_devices(\"GPU\")\n",
    "for gpu in gpus:\n",
    "    tf.config.experimental.set_memory_growth(gpu, True)"
   ]
  },
  {
   "cell_type": "code",
   "execution_count": null,
   "metadata": {},
   "outputs": [],
   "source": [
    "!export CUSTOM_DATASET=/home/suvarna/workspace/datasets/custom_id_faces/raw/train\n",
    "!$CUSTOM_DATASET\n",
    "\n",
    "!CUDA_VISIBLE_DEVICES='0'\n",
    "!python ./face_detector.py /home/suvarna/workspace/datasets/custom_id_faces/raw/train"
   ]
  },
  {
   "cell_type": "code",
   "execution_count": null,
   "metadata": {},
   "outputs": [],
   "source": [
    "# !python ./face_detector.py /home/suvarna/workspace/datasets/custom_id_faces/raw/test\n",
    "# TODO make folder structure flat"
   ]
  },
  {
   "cell_type": "code",
   "execution_count": null,
   "metadata": {},
   "outputs": [],
   "source": [
    "!ls -l /home/suvarna/workspace/datasets/custom_id_faces/raw/train_aligned_112_112 |  wc -l"
   ]
  },
  {
   "cell_type": "code",
   "execution_count": null,
   "metadata": {},
   "outputs": [],
   "source": [
    "\n",
    "\n",
    "from tensorflow import keras\n",
    "import losses, train, models\n",
    "import tensorflow_addons as tfa\n",
    "\n",
    "# basic_model = models.buildin_models(\"ResNet101V2\", dropout=0.4, emb_shape=512, output_layer=\"E\")\n",
    "basic_model = models.buildin_models(\"MobileNet\", dropout=0, emb_shape=256, output_layer=\"GDC\")\n",
    "data_path = '/home/suvarna/workspace/datasets/custom_id_faces/raw/train_aligned_112_112/imgs'\n",
    "eval_paths = ['/home/suvarna/workspace/datasets/faces_emore/cfp_fp.bin', '/home/suvarna/workspace/datasets/faces_emore/agedb_30.bin']\n",
    "\n",
    "tt = train.Train(data_path=data_path, save_path=\"checkpoints\", basic_model=basic_model, batch_size=16, random_status=0,\n",
    "                lr_base=0.1, lr_decay=0.5, lr_decay_steps=16, lr_min=1e-5)\n",
    "optimizer = tfa.optimizers.SGDW(learning_rate=0.1, momentum=0.9, weight_decay=5e-5)\n",
    "sch = [\n",
    "  {\"loss\": losses.ArcfaceLoss(scale=16), \"epoch\": 5, \"optimizer\": optimizer},\n",
    "  {\"loss\": losses.ArcfaceLoss(scale=32), \"epoch\": 5},\n",
    "  {\"loss\": losses.ArcfaceLoss(scale=64), \"epoch\": 40},\n",
    "  # {\"loss\": losses.ArcfaceLoss(), \"epoch\": 20, \"triplet\": 64, \"alpha\": 0.35},\n",
    "]\n",
    "tt.train(sch, 0)"
   ]
  },
  {
   "cell_type": "code",
   "execution_count": null,
   "metadata": {},
   "outputs": [],
   "source": [
    "!CUDA_VISIBLE_DEVICES='0'\n",
    "!export TEST_DATASET=/home/suvarna/workspace/datasets/custom_id_faces/raw/test\n",
    "\n"
   ]
  },
  {
   "cell_type": "code",
   "execution_count": 16,
   "metadata": {},
   "outputs": [
    {
     "name": "stdout",
     "output_type": "stream",
     "text": [
      "2024-02-16 12:06:29.574113: I tensorflow/core/util/port.cc:110] oneDNN custom operations are on. You may see slightly different numerical results due to floating-point round-off errors from different computation orders. To turn them off, set the environment variable `TF_ENABLE_ONEDNN_OPTS=0`.\n",
      "2024-02-16 12:06:29.575209: I tensorflow/tsl/cuda/cudart_stub.cc:28] Could not find cuda drivers on your machine, GPU will not be used.\n",
      "2024-02-16 12:06:29.597082: I tensorflow/tsl/cuda/cudart_stub.cc:28] Could not find cuda drivers on your machine, GPU will not be used.\n",
      "2024-02-16 12:06:29.597385: I tensorflow/core/platform/cpu_feature_guard.cc:182] This TensorFlow binary is optimized to use available CPU instructions in performance-critical operations.\n",
      "To enable the following instructions: AVX2 AVX_VNNI FMA, in other operations, rebuild TensorFlow with the appropriate compiler flags.\n",
      "2024-02-16 12:06:29.981204: W tensorflow/compiler/tf2tensorrt/utils/py_utils.cc:38] TF-TRT Warning: Could not find TensorRT\n",
      "2024-02-16 12:06:30.596123: I tensorflow/compiler/xla/stream_executor/cuda/cuda_gpu_executor.cc:995] successful NUMA node read from SysFS had negative value (-1), but there must be at least one NUMA node, so returning NUMA node zero. See more at https://github.com/torvalds/linux/blob/v6.0/Documentation/ABI/testing/sysfs-bus-pci#L344-L355\n",
      "2024-02-16 12:06:30.617107: W tensorflow/core/common_runtime/gpu/gpu_device.cc:1960] Cannot dlopen some GPU libraries. Please make sure the missing libraries mentioned above are installed properly if you would like to use GPU. Follow the guide at https://www.tensorflow.org/install/gpu for how to download and setup the required libraries for your platform.\n",
      "Skipping registering GPU devices...\n",
      "/home/suvarna/.pyenv/versions/3.8.5/envs/insightface_env/lib/python3.8/site-packages/tensorflow_addons/utils/tfa_eol_msg.py:23: UserWarning: \n",
      "\n",
      "TensorFlow Addons (TFA) has ended development and introduction of new features.\n",
      "TFA has entered a minimal maintenance and release mode until a planned end of life in May 2024.\n",
      "Please modify downstream libraries to take dependencies from other repositories in our TensorFlow community (e.g. Keras, Keras-CV, and Keras-NLP). \n",
      "\n",
      "For more information see: https://github.com/tensorflow/addons/issues/2807 \n",
      "\n",
      "  warnings.warn(\n",
      "WARNING:tensorflow:No training configuration found in the save file, so the model was *not* compiled. Compile it manually.\n",
      "Found 200 images belonging to 50 classes.\n",
      "Embedding: 100%|██████████████████████████████████| 4/4 [00:00<00:00,  5.64it/s]\n",
      ">>>> [base info] embs: (200, 256) imm_classes: (200,) register_ids: (50,)\n",
      "Evaluating: 100%|█████████████████████████████| 50/50 [00:00<00:00, 2768.85it/s]\n",
      ">>>> top1 accuracy: 0.9\n",
      "Traceback (most recent call last):\n",
      "  File \"/home/suvarna/.pyenv/versions/3.8.5/envs/insightface_env/lib/python3.8/site-packages/pandas/compat/_optional.py\", line 142, in import_optional_dependency\n",
      "    module = importlib.import_module(name)\n",
      "  File \"/home/suvarna/.pyenv/versions/3.8.5/lib/python3.8/importlib/__init__.py\", line 127, in import_module\n",
      "    return _bootstrap._gcd_import(name[level:], package, level)\n",
      "  File \"<frozen importlib._bootstrap>\", line 1014, in _gcd_import\n",
      "  File \"<frozen importlib._bootstrap>\", line 991, in _find_and_load\n",
      "  File \"<frozen importlib._bootstrap>\", line 973, in _find_and_load_unlocked\n",
      "ModuleNotFoundError: No module named 'tabulate'\n",
      "\n",
      "During handling of the above exception, another exception occurred:\n",
      "\n",
      "Traceback (most recent call last):\n",
      "  File \"./eval_folder.py\", line 233, in <module>\n",
      "    plot_tpr_far(score, label)\n",
      "  File \"./eval_folder.py\", line 173, in plot_tpr_far\n",
      "    print(pd.DataFrame({\"FPR\": fpr_show, \"TPR\": tpr_show}).set_index(\"FPR\").T.to_markdown())\n",
      "  File \"/home/suvarna/.pyenv/versions/3.8.5/envs/insightface_env/lib/python3.8/site-packages/pandas/core/frame.py\", line 2756, in to_markdown\n",
      "    tabulate = import_optional_dependency(\"tabulate\")\n",
      "  File \"/home/suvarna/.pyenv/versions/3.8.5/envs/insightface_env/lib/python3.8/site-packages/pandas/compat/_optional.py\", line 145, in import_optional_dependency\n",
      "    raise ImportError(msg)\n",
      "ImportError: Missing optional dependency 'tabulate'.  Use pip or conda to install tabulate.\n"
     ]
    }
   ],
   "source": [
    "!python ./eval_folder.py -d /home/suvarna/workspace/datasets/custom_id_faces/raw/test -m ~/workspace/Keras_insightface/checkpoints/checkpoints_basic_model_latest.h5\n"
   ]
  },
  {
   "cell_type": "code",
   "execution_count": 17,
   "metadata": {},
   "outputs": [
    {
     "name": "stdout",
     "output_type": "stream",
     "text": [
      "2024-02-16 15:54:14.291061: I tensorflow/core/util/port.cc:110] oneDNN custom operations are on. You may see slightly different numerical results due to floating-point round-off errors from different computation orders. To turn them off, set the environment variable `TF_ENABLE_ONEDNN_OPTS=0`.\n",
      "2024-02-16 15:54:14.292826: I tensorflow/tsl/cuda/cudart_stub.cc:28] Could not find cuda drivers on your machine, GPU will not be used.\n",
      "2024-02-16 15:54:14.314588: I tensorflow/tsl/cuda/cudart_stub.cc:28] Could not find cuda drivers on your machine, GPU will not be used.\n",
      "2024-02-16 15:54:14.314933: I tensorflow/core/platform/cpu_feature_guard.cc:182] This TensorFlow binary is optimized to use available CPU instructions in performance-critical operations.\n",
      "To enable the following instructions: AVX2 AVX_VNNI FMA, in other operations, rebuild TensorFlow with the appropriate compiler flags.\n",
      "2024-02-16 15:54:14.870097: W tensorflow/compiler/tf2tensorrt/utils/py_utils.cc:38] TF-TRT Warning: Could not find TensorRT\n",
      "2024-02-16 15:54:15.796157: I tensorflow/compiler/xla/stream_executor/cuda/cuda_gpu_executor.cc:995] successful NUMA node read from SysFS had negative value (-1), but there must be at least one NUMA node, so returning NUMA node zero. See more at https://github.com/torvalds/linux/blob/v6.0/Documentation/ABI/testing/sysfs-bus-pci#L344-L355\n",
      "2024-02-16 15:54:15.818330: W tensorflow/core/common_runtime/gpu/gpu_device.cc:1960] Cannot dlopen some GPU libraries. Please make sure the missing libraries mentioned above are installed properly if you would like to use GPU. Follow the guide at https://www.tensorflow.org/install/gpu for how to download and setup the required libraries for your platform.\n",
      "Skipping registering GPU devices...\n",
      "/home/suvarna/.pyenv/versions/3.8.5/envs/insightface_env/lib/python3.8/site-packages/tensorflow_addons/utils/tfa_eol_msg.py:23: UserWarning: \n",
      "\n",
      "TensorFlow Addons (TFA) has ended development and introduction of new features.\n",
      "TFA has entered a minimal maintenance and release mode until a planned end of life in May 2024.\n",
      "Please modify downstream libraries to take dependencies from other repositories in our TensorFlow community (e.g. Keras, Keras-CV, and Keras-NLP). \n",
      "\n",
      "For more information see: https://github.com/tensorflow/addons/issues/2807 \n",
      "\n",
      "  warnings.warn(\n",
      "Traceback (most recent call last):\n",
      "  File \"./eval_folder.py\", line 226, in <module>\n",
      "    ee = Eval_folder(args.model_file, data_path, args.batch_size, args.save_embeddings)\n",
      "  File \"./eval_folder.py\", line 24, in __init__\n",
      "    model = tf.keras.models.load_model(model_interf)\n",
      "  File \"/home/suvarna/.pyenv/versions/3.8.5/envs/insightface_env/lib/python3.8/site-packages/keras/src/saving/saving_api.py\", line 238, in load_model\n",
      "    return legacy_sm_saving_lib.load_model(\n",
      "  File \"/home/suvarna/.pyenv/versions/3.8.5/envs/insightface_env/lib/python3.8/site-packages/keras/src/utils/traceback_utils.py\", line 70, in error_handler\n",
      "    raise e.with_traceback(filtered_tb) from None\n",
      "  File \"/home/suvarna/.pyenv/versions/3.8.5/envs/insightface_env/lib/python3.8/site-packages/keras/src/saving/legacy/hdf5_format.py\", line 194, in load_model_from_hdf5\n",
      "    raise ValueError(\n",
      "ValueError: No model config found in the file at <tensorflow.python.platform.gfile.GFile object at 0x7f7ab1749850>.\n"
     ]
    }
   ],
   "source": [
    "!python ./eval_folder.py -d /home/suvarna/workspace/datasets/custom_id_faces/raw/test -m ~/workspace/Keras_insightface/models/arcface_weights.h5\n"
   ]
  },
  {
   "cell_type": "code",
   "execution_count": null,
   "metadata": {},
   "outputs": [],
   "source": [
    "!python ./eval_folder.py -d /home/suvarna/workspace/datasets/custom_id_faces/raw/test -m ~/workspace/Keras_insightface/models/arcface_weights.h5\n"
   ]
  }
 ],
 "metadata": {
  "kernelspec": {
   "display_name": "insightface_env",
   "language": "python",
   "name": "python3"
  },
  "language_info": {
   "codemirror_mode": {
    "name": "ipython",
    "version": 3
   },
   "file_extension": ".py",
   "mimetype": "text/x-python",
   "name": "python",
   "nbconvert_exporter": "python",
   "pygments_lexer": "ipython3",
   "version": "3.8.5"
  }
 },
 "nbformat": 4,
 "nbformat_minor": 2
}
